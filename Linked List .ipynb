{
 "cells": [
  {
   "cell_type": "code",
   "execution_count": 1,
   "metadata": {},
   "outputs": [],
   "source": [
    "class Node:\n",
    "    def __init__(self,data,next=None):\n",
    "        self.data=data\n",
    "        self.next=next"
   ]
  },
  {
   "cell_type": "code",
   "execution_count": 2,
   "metadata": {},
   "outputs": [],
   "source": [
    "class Linkedlist:\n",
    "    def __init__(self):\n",
    "        self.head=None\n",
    "    #insert node at the end\n",
    "    def insert(self,data):\n",
    "        new=Node(data)\n",
    "        if(self.head):\n",
    "            current=self.head\n",
    "            while(current.next):\n",
    "                current=current.next\n",
    "            current.next=new\n",
    "        else:\n",
    "            self.head=new   \n",
    "    def insert_start(self,data):\n",
    "        new=Node(data)\n",
    "        if(self.head):\n",
    "            new.next=self.head\n",
    "        self.head=new\n",
    "    def insert_at(self,data,pos):\n",
    "        count=1\n",
    "        if(pos==1):\n",
    "            insert_start(data)\n",
    "        else:\n",
    "            new=Node(data)\n",
    "            current=self.head\n",
    "            while(count!=pos-1):\n",
    "                current=current.next\n",
    "                count+=1\n",
    "            temp=current.next\n",
    "            current.next=new\n",
    "            new.next=temp\n",
    "    def delete_start(self):\n",
    "        temp=self.head\n",
    "        self.head=self.head.next\n",
    "        temp=None\n",
    "    def delete_end(self):\n",
    "        temp=self.head\n",
    "        while(temp.next.next):\n",
    "            temp=temp.next\n",
    "        last=temp.next\n",
    "        temp.next=None\n",
    "        last=None\n",
    "    def delete_pos(self,pos):\n",
    "        temp=self.head\n",
    "        if(pos==1):\n",
    "            delete_start(self)\n",
    "        else:\n",
    "            count=1\n",
    "            while(count!=pos-1):\n",
    "                temp=temp.next\n",
    "                count+=1\n",
    "            k=temp.next\n",
    "            temp.next=temp.next.next\n",
    "            k=None\n",
    "    def printlist(self):\n",
    "        current=self.head\n",
    "        while(current):\n",
    "            print(current.data)\n",
    "            current=current.next\n",
    "    "
   ]
  },
  {
   "cell_type": "code",
   "execution_count": 3,
   "metadata": {},
   "outputs": [],
   "source": [
    "LL=Linkedlist()\n",
    "LL.printlist()"
   ]
  },
  {
   "cell_type": "code",
   "execution_count": 4,
   "metadata": {},
   "outputs": [
    {
     "name": "stdout",
     "output_type": "stream",
     "text": [
      "2\n"
     ]
    }
   ],
   "source": [
    "LL.head=Node(2)\n",
    "LL.printlist()"
   ]
  },
  {
   "cell_type": "code",
   "execution_count": 5,
   "metadata": {},
   "outputs": [
    {
     "name": "stdout",
     "output_type": "stream",
     "text": [
      "2\n",
      "5\n",
      "7\n"
     ]
    }
   ],
   "source": [
    "LL.insert(5)\n",
    "LL.insert(7)\n",
    "LL.printlist()"
   ]
  },
  {
   "cell_type": "code",
   "execution_count": 6,
   "metadata": {},
   "outputs": [
    {
     "name": "stdout",
     "output_type": "stream",
     "text": [
      "1\n",
      "2\n",
      "3\n",
      "5\n",
      "6\n",
      "7\n"
     ]
    }
   ],
   "source": [
    "LL.insert_start(1)\n",
    "LL.insert_at(3,3)\n",
    "LL.insert_at(6,5)\n",
    "LL.printlist()"
   ]
  },
  {
   "cell_type": "code",
   "execution_count": 7,
   "metadata": {},
   "outputs": [
    {
     "name": "stdout",
     "output_type": "stream",
     "text": [
      "2\n",
      "3\n",
      "5\n",
      "6\n"
     ]
    }
   ],
   "source": [
    "LL.delete_start()\n",
    "LL.delete_end()\n",
    "LL.printlist()"
   ]
  },
  {
   "cell_type": "code",
   "execution_count": 8,
   "metadata": {},
   "outputs": [
    {
     "name": "stdout",
     "output_type": "stream",
     "text": [
      "2\n",
      "5\n",
      "6\n"
     ]
    }
   ],
   "source": [
    "LL.delete_pos(2)\n",
    "LL.printlist()"
   ]
  },
  {
   "cell_type": "code",
   "execution_count": null,
   "metadata": {},
   "outputs": [],
   "source": []
  },
  {
   "cell_type": "code",
   "execution_count": null,
   "metadata": {},
   "outputs": [],
   "source": []
  }
 ],
 "metadata": {
  "kernelspec": {
   "display_name": "Python 3",
   "language": "python",
   "name": "python3"
  },
  "language_info": {
   "codemirror_mode": {
    "name": "ipython",
    "version": 3
   },
   "file_extension": ".py",
   "mimetype": "text/x-python",
   "name": "python",
   "nbconvert_exporter": "python",
   "pygments_lexer": "ipython3",
   "version": "3.6.2"
  }
 },
 "nbformat": 4,
 "nbformat_minor": 4
}
